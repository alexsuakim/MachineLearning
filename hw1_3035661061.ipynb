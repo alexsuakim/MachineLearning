{
 "cells": [
  {
   "cell_type": "markdown",
   "metadata": {},
   "source": [
    "\n",
    "# Homework 1, STAT 4609\n",
    "\n",
    "***\n",
    "\n",
    "For the first homework assignment of the course, you will implement a linear regression model from scratch and then extend your linear regression code for implementing ridge regression. We will provide you with the basic template for a creating a standalone module for fitting linear regression to data. Your task is to implement the code to learn the regression parameters. In this assignment, the only extra Python package you are allowed to use is Numpy.\n",
    "\n",
    "***\n",
    "\n",
    "Assume here we have a regression model $Y = X\\beta + \\epsilon$, where $\\epsilon \\sim \\mathcal{N}(0,\\sigma^2 I)$.\n",
    "\n",
    "1.) On a .pdf file submitted together with this assignment, please derive the maximum likelihood estimator for  the regression weights, $\\beta$, and the noise parameter, $\\sigma^2$. Show that the MLE for the linear regression model is identical to the OLS solution. You will need to derive these estimators correctly to do the rest of the assignment properly.\n",
    "\n",
    "2.) Here, you will implement a Python class which contains an object that will fit a linear regression model.\n"
   ]
  },
  {
   "cell_type": "markdown",
   "metadata": {},
   "source": []
  },
  {
   "cell_type": "code",
   "execution_count": 5,
   "metadata": {},
   "outputs": [],
   "source": [
    "import numpy as np\n",
    "\n",
    "class LinearRegression(object):\n",
    "    \n",
    "    def __init__(self, X, Y):\n",
    "        self.X, self.Y = X, Y\n",
    "        self.n, self.p = X.shape\n",
    "    \n",
    "    def fit(self):\n",
    "        X, Y, n, p = self.addIntercept(self.X, self.n), self.Y, self.n, self.p\n",
    "        #compute MLEs\n",
    "        self.beta = np.linalg.inv(X.T @ X) @ X.T @ Y\n",
    "        e = Y - X @ self.beta #compute residual term\n",
    "        self.sigma2 = np.sum(e**2) / (n - p - 1)\n",
    "        \n",
    "    def predict(self, X_test):\n",
    "        X_test = self.addIntercept(X_test, len(X_test))\n",
    "        Y_pred = X_test @ self.beta\n",
    "        return Y_pred\n",
    "\n",
    "    def addIntercept(self, X, n):\n",
    "        return np.hstack((np.ones((n, 1)), X))\n",
    "\n",
    "    def MSE(self, pred, real):\n",
    "        return np.mean(np.square(pred - real))\n",
    "\n",
    "    def rankCovariates(self, covariates, values):\n",
    "        #this function returns the ranking of covariates based on its importance towards the output values\n",
    "        # the covariates are the names of columns and values are the values being compared.\n",
    "        return sorted(zip(covariates, values), key=lambda x: abs(x[1]), reverse=True)\n"
   ]
  },
  {
   "cell_type": "markdown",
   "metadata": {},
   "source": [
    "3.) Train the linear regression code you wrote on the \"Boston Housing\" dataset, which is a collection of median housing price data in the U.S. city of Boston and associated covariate data. You can read more information about this dataset here: http://lib.stat.cmu.edu/datasets/boston. You should include an intercept term (a column of \"ones\" for the input data). The intercept term represents the mean value of the response when all covariates are equal to zero. \n",
    "\n",
    "Split the dataset into a training set consisting of the first 400 observations and a test set consisting of the last 106 observations. \n",
    "\n",
    "Train the model on the training data and predict the median housing prices on the test set. \n",
    "\n",
    "Compute the mean squared error between the predicted housing prices and the actual housing prices. \n",
    "\n",
    "List the covariates from most important to least according to size of the regression coefficient. \n",
    "\n",
    "What are the most important variables that determine median house prices in Boston?"
   ]
  },
  {
   "cell_type": "code",
   "execution_count": 7,
   "metadata": {},
   "outputs": [
    {
     "name": "stdout",
     "output_type": "stream",
     "text": [
      "Test MSE: 37.89\n",
      "Ranked Covariates:\n",
      "\tcrim: 28.67\n",
      "\trm: -15.00\n",
      "\tage: 4.89\n",
      "\tnox: 1.72\n",
      "\trad: -1.29\n",
      "\tb: -0.81\n",
      "\tintercept: -0.52\n",
      "\ttax: 0.48\n",
      "\tzn: -0.19\n",
      "\tchas: 0.06\n",
      "\tindus: 0.04\n",
      "\tptratio: -0.02\n",
      "\tdis: 0.00\n",
      "\tlstat: -0.00\n"
     ]
    }
   ],
   "source": [
    "boston = np.loadtxt(\"BostonHousing.csv\", skiprows=1, delimiter=\",\")\n",
    "covariates = np.loadtxt(\"BostonHousing.csv\", max_rows=1, delimiter=\",\", dtype=str)\n",
    "covariates = np.hstack((covariates[:-1],\"intercept\"))\n",
    "#covariates: ['crim' 'zn' 'indus' 'chas' 'nox' 'rm' 'age' 'dis' 'rad' 'tax' 'ptratio' 'b' 'lstat' 'intercept']\n",
    "\n",
    "X, Y = boston[:,0:-1], boston[:,[-1]] # shape: (506, 13) (506,1)\n",
    "\n",
    "#split the dataset into a training set and a test set\n",
    "train_X, test_X = X[:400,:], X[400:,:] # shape => (400,13), (106,13)\n",
    "train_Y, test_Y = Y[:400,:], Y[400:,:]\n",
    "\n",
    "# Fit the linear regression model here \n",
    "LR = LinearRegression(train_X, train_Y)\n",
    "LR.fit()\n",
    "\n",
    "#predict Y\n",
    "predicted_Y = LR.predict(test_X)\n",
    "\n",
    "#compute MSE\n",
    "LR_MSE = LR.MSE(predicted_Y, test_Y)\n",
    "print(\"Test MSE: %.2f\" % LR_MSE)\n",
    "\n",
    "#covariates with high absolute beta values influence the Y value more. \n",
    "ranked_covariates = LR.rankCovariates(covariates, LR.beta)\n",
    "print(\"Ranked Covariates:\\n\\t%s\" % \"\\n\\t\".join([f\"{covariate}: {coefficient[0]:.2f}\" for covariate, coefficient in ranked_covariates]))\n"
   ]
  },
  {
   "cell_type": "markdown",
   "metadata": {},
   "source": [
    "4.) Now, derive the regression coefficient parameter, $\\hat{\\beta}$ by minimzing the sum of squared errors with  L2 regularization of the regression coeffiecients (under a scalar regularization parameter $\\lambda$). This is known as ridge regression. First, write the objective function you are optimizing. Then solve for the optimal solution (this is available in closed form)."
   ]
  },
  {
   "cell_type": "markdown",
   "metadata": {},
   "source": [
    "5.) Now write a Python class that implements ridge regression. You should inherit the LinearRegression class you wrote earlier as a simple way to reduce some of redundant code you will need to write. Read more about class inheritance here: https://www.w3schools.com/python/python_inheritance.asp\n",
    "\n",
    "Next, write a function called \"fit_lambda\" inside your ridge regression object that selects the regularization term on some grid of values that minimizes the mean squared error on some given test set data."
   ]
  },
  {
   "cell_type": "code",
   "execution_count": 11,
   "metadata": {},
   "outputs": [],
   "source": [
    "class RidgeRegression(LinearRegression):\n",
    "    def __init__(self, X, Y, lambda_reg=None):\n",
    "        super().__init__(X, Y)\n",
    "        self.lambda_reg = lambda_reg\n",
    "\n",
    "    def fit(self):\n",
    "        if self.lambda_reg is None:\n",
    "            raise ValueError(\"lambda_reg must be initialised before calling fit()\")\n",
    "            \n",
    "        lambda_ = self.lambda_reg\n",
    "        X, Y, n, p = self.addIntercept(self.X, self.n), self.Y, self.n, self.p\n",
    "\n",
    "        # L2 regularisation\n",
    "        self.beta = np.linalg.inv(X.T @ X + lambda_ * np.identity(p+1)) @ (X.T @ Y)\n",
    "        \n",
    "    def fit_lambda(self, lambdas, X_test, Y_test):\n",
    "        self.allMse = []\n",
    "        best_mse = float(\"inf\") #initialise as an arbitrarily big float\n",
    "\n",
    "        for lambda_ in lambdas:\n",
    "            self.lambda_reg = lambda_\n",
    "            self.fit()  # fit the model with the current lambda and the training set\n",
    "            Y_pred = self.predict(X_test)\n",
    "            mse = self.MSE(Y_pred, Y_test)\n",
    "            self.allMse.append(mse)\n",
    "            \n",
    "            if mse < best_mse:\n",
    "                best_mse = mse\n",
    "                best_lambda = lambda_\n",
    "                best_beta = self.beta\n",
    "\n",
    "        self.lambda_reg = best_lambda\n",
    "        self.beta = best_beta\n",
    "        return best_lambda, best_mse\n"
   ]
  },
  {
   "cell_type": "markdown",
   "metadata": {},
   "source": [
    "6.) Now fit your ridge regression code on the Boston data set from question 2. Use the \"fit_lambda\" method you implemented in the previous question to select the regression parameter. \n",
    "\n",
    "What are the most important covariates that affect median home prices under ridge regression? \n",
    "\n",
    "Next, generate a plot with the grid of candidate regularization parameters on the X-axis and the test set MSE on the Y-axis (please label your plot appropriately). \n",
    "\n",
    "Compare the test MSE under the optimal regularization parameter for ridge regression with the test set MSE from question 3. How do they compare? \n",
    "\n",
    "If you implemented the code correctly, then ridge regression should produce a smaller test set MSE than the OLS result. Why is this the case? \n",
    "\n",
    "Do you think the method for selecting the regularization parameter implemented in the code is appropriate? Why or why not?"
   ]
  },
  {
   "cell_type": "code",
   "execution_count": 12,
   "metadata": {},
   "outputs": [
    {
     "name": "stdout",
     "output_type": "stream",
     "text": [
      "Ranked Covariates:\n",
      "\tage: 5.35\n",
      "\tnox: 0.97\n",
      "\trad: -0.88\n",
      "\tcrim: 0.84\n",
      "\tintercept: -0.53\n",
      "\tb: -0.40\n",
      "\ttax: 0.36\n",
      "\tzn: -0.20\n",
      "\trm: 0.10\n",
      "\tindus: 0.05\n",
      "\tchas: 0.03\n",
      "\tlstat: 0.02\n",
      "\tptratio: -0.01\n",
      "\tdis: 0.01\n"
     ]
    },
    {
     "data": {
      "image/png": "[encoded data removed]",
      "text/plain": [
       "<Figure size 1000x600 with 1 Axes>"
      ]
     },
     "metadata": {},
     "output_type": "display_data"
    },
    {
     "name": "stdout",
     "output_type": "stream",
     "text": [
      "Ridge Regression MSE: 32.32\n",
      "OLS Test MSE: 37.89\n"
     ]
    }
   ],
   "source": [
    "import matplotlib.pyplot as plt \n",
    "\n",
    "RR = RidgeRegression(train_X, train_Y)\n",
    "grid = np.arange(0,100,.1) #lambda grid\n",
    "\n",
    "#select lambda\n",
    "lambda_, RR_MSE = RR.fit_lambda(grid, test_X, test_Y)\n",
    "\n",
    "#rank covariates by importance\n",
    "ranked_covariates = RR.rankCovariates(covariates, RR.beta)\n",
    "print(\"Ranked Covariates:\\n\\t%s\" % \"\\n\\t\".join([f\"{covariate}: {coefficient[0]:.2f}\" for covariate, coefficient in ranked_covariates]))\n",
    "\n",
    "# Plot of lambdas vs. the mse\n",
    "plt.figure(figsize=(10, 6))\n",
    "plt.plot(grid, RR.allMse, label='MSE')\n",
    "plt.xlabel('regularisation parameter (lambda)')\n",
    "plt.ylabel('test set MSE')\n",
    "plt.title('Ridge Regression MSE vs. lambda')\n",
    "plt.legend()\n",
    "plt.show()\n",
    "\n",
    "# RR MSE vs. LR(OLS) MSE\n",
    "print(\"Ridge Regression MSE: %.2f\" % RR_MSE)\n",
    "print(\"OLS Test MSE: %.2f\" % LR_MSE)"
   ]
  },
  {
   "cell_type": "code",
   "execution_count": null,
   "metadata": {},
   "outputs": [],
   "source": []
  }
 ],
 "metadata": {
  "kernelspec": {
   "display_name": "Python 3 (ipykernel)",
   "language": "python",
   "name": "python3"
  },
  "language_info": {
   "codemirror_mode": {
    "name": "ipython",
    "version": 3
   },
   "file_extension": ".py",
   "mimetype": "text/x-python",
   "name": "python",
   "nbconvert_exporter": "python",
   "pygments_lexer": "ipython3",
   "version": "3.11.5"
  }
 },
 "nbformat": 4,
 "nbformat_minor": 4
}
