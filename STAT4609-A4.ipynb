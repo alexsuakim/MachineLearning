{
 "cells": [
  {
   "cell_type": "markdown",
   "metadata": {
    "id": "6v-6h92hOfWd"
   },
   "source": [
    "Homework 4\n",
    "---\n",
    "\n",
    "In this homework assignment you will be tasked with implementing a K-means clustering and a Gaussian mixture model using Gibbs sampling. You may refer to the lecture slides on clustering for the high level overview of implementing these algorithms. For the case of the Gaussian mixture model, suppose our data generating process is:\n",
    "\n",
    "$X_i \\sim N(\\mu_{z_i}, \\sigma^2_0 I)$\n",
    "\n",
    "$\\mu_k \\sim N(\\mu_0, \\tau^2_0)$\n",
    "\n",
    "$z_i \\sim \\mbox{Categorical}(\\pi)$\n",
    "\n",
    "$\\pi \\sim \\mbox{Dirichlet}(\\alpha_0)$\n",
    "\n",
    "You may fix the value of the hyperpriors $\\sigma_0^2,\\tau^2_0, \\mu_0, \\alpha_0$. Note that the likelihood for $X_i$ is a multivariate Gaussian distribution.\n",
    "\n",
    "---\n",
    "\n",
    "1.) Derive the posterior updates for the parameters $\\mu_k, \\pi, z_i$. For deriving the full conditional of $\\mu_k$, two properties that may be useful are the properties of the conditional distribution of a m.v. Gaussian (https://en.wikipedia.org/wiki/Multivariate_normal_distribution#Conditional_distributions) and completing the square of a matrix (https://en.wikipedia.org/wiki/Completing_the_square#Matrix_case).\n",
    "\n",
    "2.) Compare the Gibbs sampling algorithm using the posterior updates you wrote in Question 1 with the K-Means algorithm. Under what conditions is the K-Means algorithm a special case of the Gibbs sampler for a GMM?\n",
    "\n",
    "3.) Now, implement the Gibbs sampler for the GMM and the K-Means algorithm. Test to see if your implementation works correctly by fitting the model by generating some synthetic data. You may use the function `sklearn.datasets.make_blobs' with the default setting to test this. One quantitative way to measure the performance per iteration to track the progress of your model is to calculate the log-likelihood of the data per iteration. If it improves on average, then you may be in the right direction (this is not mandatory, but it should help during the debugging process).\n",
    "\n",
    "4.) Fit the data to the `sklearn.datasets.load_digits' handwritten data set. It may be helpful to rescale the data to have zero mean and unit variance. Try to plot the cluster centers, comment on the performance.\n",
    "\n",
    "\n"
   ]
  },
  {
   "cell_type": "code",
   "execution_count": 7,
   "metadata": {
    "id": "ChKuiOeuOcBE"
   },
   "outputs": [],
   "source": [
    "# Import libraries\n",
    "import numpy as np\n",
    "from scipy.stats import multivariate_normal\n",
    "import matplotlib.pyplot as plt\n",
    "from sklearn.datasets import make_blobs\n",
    "from sklearn.datasets import load_digits"
   ]
  },
  {
   "cell_type": "code",
   "execution_count": 8,
   "metadata": {},
   "outputs": [],
   "source": [
    "# K-means\n",
    "class KMeans:\n",
    "    def __init__(self, k=3, max_iters=100, tol=1e-4):\n",
    "        self.k = k # Number of clusters\n",
    "        self.max_iters = max_iters # Max number of iterations\n",
    "        self.tol = tol # Tolerance for convergence\n",
    "        self.centroids = None \n",
    "        self.clusters = None\n",
    "\n",
    "    def fit(self, X):\n",
    "        # Randomly initialize centroids\n",
    "        self.centroids = X[np.random.choice(X.shape[0], self.k, replace=False)]\n",
    "        prev_centroids = self.centroids.copy()\n",
    "\n",
    "        for it in range(self.max_iters):\n",
    "            # Assign clusters\n",
    "            distances = np.linalg.norm(X[:, np.newaxis] - self.centroids, axis=2)\n",
    "            self.clusters = np.argmin(distances, axis=1)\n",
    "            \n",
    "            # Calculate new centroids\n",
    "            for i in range(self.k):\n",
    "                points_in_cluster = X[self.clusters == i]\n",
    "                if len(points_in_cluster) > 0:\n",
    "                    self.centroids[i] = points_in_cluster.mean(axis=0)\n",
    "            \n",
    "            # Check for convergence\n",
    "            centroid_shift = np.linalg.norm(self.centroids - prev_centroids)\n",
    "            if centroid_shift < self.tol:\n",
    "                break\n",
    "            prev_centroids = self.centroids.copy()\n",
    "\n",
    "    def predict(self, X):\n",
    "        # Assign clusters\n",
    "        distances = np.linalg.norm(X[:, np.newaxis] - self.centroids, axis=2)\n",
    "        return np.argmin(distances, axis=1)\n"
   ]
  },
  {
   "cell_type": "code",
   "execution_count": 9,
   "metadata": {},
   "outputs": [
    {
     "name": "stdout",
     "output_type": "stream",
     "text": [
      "Centroids:\n",
      " [[-2.25140534  2.54251795]\n",
      " [-7.78644096 -5.0945248 ]\n",
      " [ 8.57285943 -8.14260741]]\n"
     ]
    }
   ],
   "source": [
    "# Test the KMeans class\n",
    "X, _ = make_blobs() # Generate synthetic data\n",
    "\n",
    "kmeans = KMeans(k=3)\n",
    "kmeans.fit(X)\n",
    "clusters = kmeans.predict(X)\n",
    "print(\"Centroids:\\n\", kmeans.centroids)"
   ]
  },
  {
   "cell_type": "code",
   "execution_count": 17,
   "metadata": {},
   "outputs": [],
   "source": [
    "# Gibbs Sampler for GMM\n",
    "class GMMGibbsSampler:\n",
    "    def __init__(self, K, sigma2_0, tau2_0, mu_0, alpha_0, n_iter=100):\n",
    "        self.K = K  # Number of clusters\n",
    "        self.sigma2_0 = sigma2_0  # Data variance\n",
    "        self.tau2_0 = tau2_0  # Cluster mean prior variance\n",
    "        self.mu_0 = mu_0  # Cluster mean prior mean\n",
    "        self.alpha_0 = alpha_0  # Dirichlet prior\n",
    "        self.n_iter = n_iter  # Number of iterations for Gibbs sampling\n",
    "\n",
    "    def initialize_parameters(self, X):\n",
    "        N, D = X.shape\n",
    "        self.z = np.random.choice(self.K, N)  # Cluster assignments\n",
    "        self.pi = np.random.dirichlet(self.alpha_0 * np.ones(self.K))  # Mixing coefficients\n",
    "        self.mu = np.random.normal(self.mu_0, np.sqrt(self.tau2_0), (self.K, D))  # Cluster means\n",
    "\n",
    "    def sample_z(self, X):\n",
    "        N, D = X.shape\n",
    "        for i in range(N):\n",
    "            # Calculate the full conditional probabilities of z_i\n",
    "            log_probs = np.zeros(self.K)\n",
    "            for k in range(self.K):\n",
    "                log_probs[k] = np.log(self.pi[k]) - 0.5 * np.sum((X[i] - self.mu[k])**2) / self.sigma2_0\n",
    "            # Convert log probabilities to actual probabilities\n",
    "            probs = np.exp(log_probs - np.max(log_probs))\n",
    "            probs /= np.sum(probs)\n",
    "            # Sample the new cluster assignment for X_i\n",
    "            self.z[i] = np.random.choice(self.K, p=probs)\n",
    "    \n",
    "    def sample_mu(self, X):\n",
    "        N, D = X.shape\n",
    "        for k in range(self.K):\n",
    "            # Get all data points assigned to cluster k\n",
    "            X_k = X[self.z == k]\n",
    "            N_k = X_k.shape[0]\n",
    "    \n",
    "            # Calculate posterior parameters for mu_k\n",
    "            posterior_mean = (self.mu_0 / self.tau2_0 + X_k.sum(axis=0) / self.sigma2_0) / (1 / self.tau2_0 + N_k / self.sigma2_0)\n",
    "            posterior_var = 1 / (1 / self.tau2_0 + N_k / self.sigma2_0)\n",
    "    \n",
    "            # Sample the new mean for cluster k\n",
    "            self.mu[k] = np.random.normal(posterior_mean, np.sqrt(posterior_var))\n",
    "\n",
    "    def sample_pi(self):\n",
    "        # Calculate the parameters for the Dirichlet posterior\n",
    "        alpha_k = self.alpha_0 + np.array([np.sum(self.z == k) for k in range(self.K)])\n",
    "    \n",
    "        # Sample the new mixing coefficients\n",
    "        self.pi = np.random.dirichlet(alpha_k)\n",
    "\n",
    "    '''\n",
    "    def log_likelihood(self, X):\n",
    "        N, D = X.shape\n",
    "        log_likelihood = 0\n",
    "        for i in range(N):\n",
    "            likelihood_i = 0\n",
    "            for k in range(self.K):\n",
    "                likelihood_i += self.pi[k] * multivariate_normal.pdf(X[i], mean=self.mu[k], cov=self.sigma2_0 * np.eye(D))\n",
    "            log_likelihood += np.log(likelihood_i)\n",
    "        return log_likelihood\n",
    "    \n",
    "    def fit(self, X):\n",
    "        self.initialize_parameters(X)\n",
    "        log_likelihoods = []  # Initialize a list to store log-likelihoods\n",
    "        for iter in range(self.n_iter):\n",
    "            self.sample_z(X)\n",
    "            self.sample_mu(X)\n",
    "            self.sample_pi()\n",
    "            \n",
    "            # Calculate log likelihood\n",
    "            current_log_likelihood = self.log_likelihood(X)\n",
    "            log_likelihoods.append(current_log_likelihood)\n",
    "    \n",
    "        return self.z, self.mu, self.pi, log_likelihoods\n",
    "    '''\n",
    "    \n",
    "    def fit(self, X):\n",
    "        self.initialize_parameters(X)\n",
    "        for iter in range(self.n_iter):\n",
    "            self.sample_z(X)\n",
    "            self.sample_mu(X)\n",
    "            self.sample_pi()\n",
    "    \n",
    "        return self.z, self.mu, self.pi"
   ]
  },
  {
   "cell_type": "code",
   "execution_count": 15,
   "metadata": {},
   "outputs": [
    {
     "name": "stdout",
     "output_type": "stream",
     "text": [
      "Estimated means:\n",
      "[[-7.42738996 -5.29695233]\n",
      " [-2.17963716  2.32726228]\n",
      " [ 8.32123468 -7.84596792]]\n",
      "Estimated mixing coefficients:\n",
      "[0.38539638 0.26295707 0.35164655]\n"
     ]
    },
    {
     "data": {
      "image/png": "[encoded data removed]",
      "text/plain": [
       "<Figure size 640x480 with 1 Axes>"
      ]
     },
     "metadata": {},
     "output_type": "display_data"
    }
   ],
   "source": [
    "# Generate synthetic data\n",
    "gibbs_sampler = GMMGibbsSampler(K=3, sigma2_0=1, tau2_0=1, mu_0=0, alpha_0=1)\n",
    "z, mu, pi, log_likelihoods = gibbs_sampler.fit(X)\n",
    "\n",
    "# Report estimated mu & pi\n",
    "print(\"Estimated means:\")\n",
    "print(mu)\n",
    "print(\"Estimated mixing coefficients:\")\n",
    "print(pi)\n",
    "\n",
    "# Plot the log-likelihoods over iterations\n",
    "plt.plot(log_likelihoods)\n",
    "plt.title('Log-Likelihood over Iterations')\n",
    "plt.xlabel('Iteration')\n",
    "plt.ylabel('Log-Likelihood')\n",
    "plt.show()"
   ]
  },
  {
   "cell_type": "code",
   "execution_count": 21,
   "metadata": {},
   "outputs": [
    {
     "name": "stdout",
     "output_type": "stream",
     "text": [
      "Cluster assignments for the digits:\n",
      "[5 0 0 ... 0 5 5]\n"
     ]
    }
   ],
   "source": [
    "# Apply GMM Gibbs Sampler on the digits dataset\n",
    "digits = load_digits()\n",
    "X = digits.data\n",
    "y = digits.target\n",
    "\n",
    "# Normalise the data\n",
    "X_normalised = X / 16.0  # Pixel values are in [0, 16]\n",
    "\n",
    "# Initialise K & the hyperparameters\n",
    "K = len(np.unique(y))\n",
    "sigma2_0 = np.var(X_normalised)  # Data variance\n",
    "tau2_0 = sigma2_0 \n",
    "mu_0 = np.mean(X_normalised)  # Set prior mean to be the overall mean\n",
    "alpha_0 = 0.1 \n",
    "\n",
    "# Create Gibbs sampler instance & fit\n",
    "gibbs_sampler = GMMGibbsSampler(K=K, sigma2_0=sigma2_0, tau2_0=tau2_0, mu_0=mu_0, alpha_0=alpha_0, n_iter=100)\n",
    "z, mu, pi = gibbs_sampler.fit(X_normalised)\n",
    "\n",
    "# The cluster assignments can be used to classify the digits\n",
    "print(\"Cluster assignments for the digits:\")\n",
    "print(z)"
   ]
  },
  {
   "cell_type": "code",
   "execution_count": 22,
   "metadata": {},
   "outputs": [
    {
     "data": {
      "image/png": "[encoded data removed]",
      "text/plain": [
       "<Figure size 1000x500 with 10 Axes>"
      ]
     },
     "metadata": {},
     "output_type": "display_data"
    }
   ],
   "source": [
    "# Reshape the cluster centers into 8x8 images\n",
    "cluster_centers_images = [center.reshape((8, 8)) for center in mu]\n",
    "\n",
    "# Plot the cluster centers as images\n",
    "fig, axes = plt.subplots(1, K, figsize=(10, 5))\n",
    "for i, (ax, center_img) in enumerate(zip(axes, cluster_centers_images)):\n",
    "    ax.imshow(center_img, cmap='gray')\n",
    "    ax.axis('off')\n",
    "    ax.set_title(f'cluster {i}')\n",
    "\n",
    "plt.tight_layout()\n",
    "plt.show()"
   ]
  },
  {
   "cell_type": "code",
   "execution_count": null,
   "metadata": {},
   "outputs": [],
   "source": []
  }
 ],
 "metadata": {
  "colab": {
   "provenance": []
  },
  "kernelspec": {
   "display_name": "Python 3 (ipykernel)",
   "language": "python",
   "name": "python3"
  },
  "language_info": {
   "codemirror_mode": {
    "name": "ipython",
    "version": 3
   },
   "file_extension": ".py",
   "mimetype": "text/x-python",
   "name": "python",
   "nbconvert_exporter": "python",
   "pygments_lexer": "ipython3",
   "version": "3.11.5"
  }
 },
 "nbformat": 4,
 "nbformat_minor": 4
}
